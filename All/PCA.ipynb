{
 "cells": [
  {
   "cell_type": "code",
   "execution_count": 2,
   "id": "9f0306bf",
   "metadata": {},
   "outputs": [
    {
     "name": "stdout",
     "output_type": "stream",
     "text": [
      "[4.6 7.  8.6]\n",
      "[[-2.6 -4.  -4.6]\n",
      " [-1.6 -2.  -2.6]\n",
      " [ 0.4  1.   0.4]\n",
      " [ 1.4  2.   2.4]\n",
      " [ 2.4  3.   4.4]]\n",
      "[[ 4.3   6.    7.55]\n",
      " [ 6.    8.5  10.5 ]\n",
      " [ 7.55 10.5  13.3 ]]\n",
      "[2.59637803e+01 5.52557327e-03 1.30694106e-01]\n",
      "[[ 0.4066816   0.90812885  0.09955937]\n",
      " [ 0.56930735 -0.16669075 -0.80504865]\n",
      " [ 0.71449228 -0.38407836  0.58479449]]\n",
      "Transformed Data (3 to 1):\n",
      "[-6.62126605 -3.64698519  1.0177769   3.42275041  5.82772392]\n",
      "\n",
      "Transformed Data (3 to 2):\n",
      "[[-6.62126605  0.27128556]\n",
      " [-3.64698519 -0.06966338]\n",
      " [ 1.0177769  -0.5313071 ]\n",
      " [ 3.42275041 -0.0672074 ]\n",
      " [ 5.82772392  0.39689231]]\n"
     ]
    }
   ],
   "source": [
    "import numpy as np\n",
    "\n",
    "\n",
    "X=np.array([\n",
    "    [2,3,4],\n",
    "    [3,5,6],\n",
    "    [5,8,9],\n",
    "    [6,9,11],\n",
    "    [7,10,13]\n",
    "])\n",
    "\n",
    "\n",
    "mean_X=np.mean(X,axis=0)\n",
    "print(mean_X)\n",
    "\n",
    "\n",
    "X_centered=X - mean_X\n",
    "print(X_centered)\n",
    "\n",
    "\n",
    "cov_matrix = np.cov(X_centered,rowvar=False)\n",
    "print(cov_matrix)\n",
    "\n",
    "\n",
    "eigenvalues, eigenvectors = np.linalg.eig(cov_matrix)\n",
    "print(eigenvalues)\n",
    "print(eigenvectors)\n",
    "\n",
    "\n",
    "sorted_indices = np.argsort(eigenvalues)[::-1]\n",
    "eigenvalues = eigenvalues[sorted_indices]\n",
    "eigenvectors = eigenvectors[:, sorted_indices]\n",
    "\n",
    "\n",
    "X_transformed_1 = X_centered @ eigenvectors[:, 0]\n",
    "\n",
    "\n",
    "X_transformed_2 = X_centered @ eigenvectors[:, :2]\n",
    "print(\"Transformed Data (3 to 1):\")\n",
    "print(X_transformed_1)\n",
    "print(\"\\nTransformed Data (3 to 2):\")\n",
    "print(X_transformed_2)"
   ]
  },
  {
   "cell_type": "code",
   "execution_count": null,
   "id": "8f375fda",
   "metadata": {},
   "outputs": [],
   "source": []
  }
 ],
 "metadata": {
  "kernelspec": {
   "display_name": "Python 3",
   "language": "python",
   "name": "python3"
  },
  "language_info": {
   "codemirror_mode": {
    "name": "ipython",
    "version": 3
   },
   "file_extension": ".py",
   "mimetype": "text/x-python",
   "name": "python",
   "nbconvert_exporter": "python",
   "pygments_lexer": "ipython3",
   "version": "3.13.2"
  }
 },
 "nbformat": 4,
 "nbformat_minor": 5
}
