{
 "cells": [
  {
   "cell_type": "code",
   "execution_count": 1,
   "metadata": {},
   "outputs": [],
   "source": [
    "import numpy as np"
   ]
  },
  {
   "cell_type": "code",
   "execution_count": 2,
   "metadata": {},
   "outputs": [],
   "source": [
    "#step 1: collect data\n",
    "\n",
    "X=np.array([\n",
    "\n",
    "    [2,3,4],\n",
    "\n",
    "    [3,5,6],\n",
    "\n",
    "    [5,8,9],\n",
    "\n",
    "    [6,9,11],\n",
    "\n",
    "    [7,10,13]\n",
    "\n",
    "])"
   ]
  },
  {
   "cell_type": "code",
   "execution_count": 3,
   "metadata": {},
   "outputs": [
    {
     "name": "stdout",
     "output_type": "stream",
     "text": [
      "[4.6 7.  8.6]\n"
     ]
    }
   ],
   "source": [
    "#step 2: compute mean value for each column\n",
    "\n",
    "mean_X=np.mean(X,axis=0)\n",
    "\n",
    "print(mean_X)"
   ]
  },
  {
   "cell_type": "code",
   "execution_count": 4,
   "metadata": {},
   "outputs": [
    {
     "name": "stdout",
     "output_type": "stream",
     "text": [
      "[[-2.6 -4.  -4.6]\n",
      " [-1.6 -2.  -2.6]\n",
      " [ 0.4  1.   0.4]\n",
      " [ 1.4  2.   2.4]\n",
      " [ 2.4  3.   4.4]]\n"
     ]
    }
   ],
   "source": [
    "#step 3: center the data\n",
    "\n",
    "X_centered=X - mean_X\n",
    "\n",
    "print(X_centered)"
   ]
  },
  {
   "cell_type": "code",
   "execution_count": 5,
   "metadata": {},
   "outputs": [
    {
     "name": "stdout",
     "output_type": "stream",
     "text": [
      "[[ 4.3   6.    7.55]\n",
      " [ 6.    8.5  10.5 ]\n",
      " [ 7.55 10.5  13.3 ]]\n"
     ]
    }
   ],
   "source": [
    "#step 4: compute the covariance matrix\n",
    "\n",
    "cov_matrix = np.cov(X_centered,rowvar=False)\n",
    "\n",
    "print(cov_matrix)"
   ]
  },
  {
   "cell_type": "code",
   "execution_count": 6,
   "metadata": {},
   "outputs": [
    {
     "name": "stdout",
     "output_type": "stream",
     "text": [
      "[2.59637803e+01 5.52557327e-03 1.30694106e-01]\n",
      "[[ 0.4066816   0.90812885  0.09955937]\n",
      " [ 0.56930735 -0.16669075 -0.80504865]\n",
      " [ 0.71449228 -0.38407836  0.58479449]]\n"
     ]
    }
   ],
   "source": [
    "#step 5: compute eighenvalues and eigenvector\n",
    "\n",
    "eigenvalues, eigenvectors = np.linalg.eig(cov_matrix)\n",
    "\n",
    "print(eigenvalues)\n",
    "\n",
    "print(eigenvectors)"
   ]
  },
  {
   "cell_type": "code",
   "execution_count": 7,
   "metadata": {},
   "outputs": [],
   "source": [
    "# Step 6: Select Principal Components (Sorting by largest eigenvalues)\n",
    "\n",
    "sorted_indices = np.argsort(eigenvalues)[::-1]\n",
    "\n",
    "eigenvalues = eigenvalues[sorted_indices]\n",
    "\n",
    "eigenvectors = eigenvectors[:, sorted_indices]"
   ]
  },
  {
   "cell_type": "code",
   "execution_count": 8,
   "metadata": {},
   "outputs": [],
   "source": [
    "# Step 7: Transform the Data\n",
    "\n",
    "# 3 to 1 (Project onto first principal component)\n",
    "\n",
    "X_transformed_1 = X_centered @ eigenvectors[:, 0]"
   ]
  },
  {
   "cell_type": "code",
   "execution_count": 9,
   "metadata": {},
   "outputs": [
    {
     "name": "stdout",
     "output_type": "stream",
     "text": [
      "Transformed Data (3 to 1):\n",
      "[-6.62126605 -3.64698519  1.0177769   3.42275041  5.82772392]\n",
      "\n",
      "Transformed Data (3 to 2):\n",
      "[[-6.62126605  0.27128556]\n",
      " [-3.64698519 -0.06966338]\n",
      " [ 1.0177769  -0.5313071 ]\n",
      " [ 3.42275041 -0.0672074 ]\n",
      " [ 5.82772392  0.39689231]]\n"
     ]
    }
   ],
   "source": [
    "# 3 to 2 (Project onto first two principal components)\n",
    "\n",
    "X_transformed_2 = X_centered @ eigenvectors[:, :2]\n",
    "\n",
    "# Output results\n",
    "\n",
    "print(\"Transformed Data (3 to 1):\")\n",
    "\n",
    "print(X_transformed_1)\n",
    "\n",
    "print(\"\\nTransformed Data (3 to 2):\")\n",
    "\n",
    "print(X_transformed_2)"
   ]
  },
  {
   "cell_type": "code",
   "execution_count": null,
   "metadata": {},
   "outputs": [],
   "source": []
  }
 ],
 "metadata": {
  "kernelspec": {
   "display_name": "Python 3",
   "language": "python",
   "name": "python3"
  },
  "language_info": {
   "codemirror_mode": {
    "name": "ipython",
    "version": 3
   },
   "file_extension": ".py",
   "mimetype": "text/x-python",
   "name": "python",
   "nbconvert_exporter": "python",
   "pygments_lexer": "ipython3",
   "version": "3.13.2"
  }
 },
 "nbformat": 4,
 "nbformat_minor": 2
}
